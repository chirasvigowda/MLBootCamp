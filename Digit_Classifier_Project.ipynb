{
  "nbformat": 4,
  "nbformat_minor": 0,
  "metadata": {
    "colab": {
      "provenance": []
    },
    "kernelspec": {
      "name": "python3",
      "display_name": "Python 3"
    },
    "language_info": {
      "name": "python"
    }
  },
  "cells": [
    {
      "cell_type": "code",
      "execution_count": 2,
      "metadata": {
        "id": "mBc2TI3TeLkZ"
      },
      "outputs": [],
      "source": [
        "from torchvision import datasets\n",
        "from torchvision.transforms import ToTensor"
      ]
    },
    {
      "cell_type": "code",
      "source": [
        "train_data=datasets.MNIST(\n",
        "    root='data',\n",
        "    train=True,\n",
        "    transform=ToTensor(),\n",
        "    download=True\n",
        ")\n",
        "\n",
        "test_data=datasets.MNIST(\n",
        "    root='data',\n",
        "    train=False,\n",
        "    transform=ToTensor(),\n",
        "    download=True\n",
        ")"
      ],
      "metadata": {
        "colab": {
          "base_uri": "https://localhost:8080/"
        },
        "id": "tQIlYtLOgEa4",
        "outputId": "bf740035-3643-45d3-cf4f-1a99827556e9"
      },
      "execution_count": 3,
      "outputs": [
        {
          "output_type": "stream",
          "name": "stdout",
          "text": [
            "Downloading http://yann.lecun.com/exdb/mnist/train-images-idx3-ubyte.gz\n",
            "Failed to download (trying next):\n",
            "<urlopen error [SSL: CERTIFICATE_VERIFY_FAILED] certificate verify failed: certificate has expired (_ssl.c:1007)>\n",
            "\n",
            "Downloading https://ossci-datasets.s3.amazonaws.com/mnist/train-images-idx3-ubyte.gz\n",
            "Downloading https://ossci-datasets.s3.amazonaws.com/mnist/train-images-idx3-ubyte.gz to data/MNIST/raw/train-images-idx3-ubyte.gz\n"
          ]
        },
        {
          "output_type": "stream",
          "name": "stderr",
          "text": [
            "100%|██████████| 9912422/9912422 [00:00<00:00, 44894297.73it/s]\n"
          ]
        },
        {
          "output_type": "stream",
          "name": "stdout",
          "text": [
            "Extracting data/MNIST/raw/train-images-idx3-ubyte.gz to data/MNIST/raw\n",
            "\n",
            "Downloading http://yann.lecun.com/exdb/mnist/train-labels-idx1-ubyte.gz\n",
            "Failed to download (trying next):\n",
            "<urlopen error [SSL: CERTIFICATE_VERIFY_FAILED] certificate verify failed: certificate has expired (_ssl.c:1007)>\n",
            "\n",
            "Downloading https://ossci-datasets.s3.amazonaws.com/mnist/train-labels-idx1-ubyte.gz\n",
            "Downloading https://ossci-datasets.s3.amazonaws.com/mnist/train-labels-idx1-ubyte.gz to data/MNIST/raw/train-labels-idx1-ubyte.gz\n"
          ]
        },
        {
          "output_type": "stream",
          "name": "stderr",
          "text": [
            "100%|██████████| 28881/28881 [00:00<00:00, 2038189.12it/s]\n"
          ]
        },
        {
          "output_type": "stream",
          "name": "stdout",
          "text": [
            "Extracting data/MNIST/raw/train-labels-idx1-ubyte.gz to data/MNIST/raw\n",
            "\n",
            "Downloading http://yann.lecun.com/exdb/mnist/t10k-images-idx3-ubyte.gz\n",
            "Failed to download (trying next):\n",
            "<urlopen error [SSL: CERTIFICATE_VERIFY_FAILED] certificate verify failed: certificate has expired (_ssl.c:1007)>\n",
            "\n",
            "Downloading https://ossci-datasets.s3.amazonaws.com/mnist/t10k-images-idx3-ubyte.gz\n",
            "Downloading https://ossci-datasets.s3.amazonaws.com/mnist/t10k-images-idx3-ubyte.gz to data/MNIST/raw/t10k-images-idx3-ubyte.gz\n"
          ]
        },
        {
          "output_type": "stream",
          "name": "stderr",
          "text": [
            "100%|██████████| 1648877/1648877 [00:00<00:00, 14456536.47it/s]\n"
          ]
        },
        {
          "output_type": "stream",
          "name": "stdout",
          "text": [
            "Extracting data/MNIST/raw/t10k-images-idx3-ubyte.gz to data/MNIST/raw\n",
            "\n",
            "Downloading http://yann.lecun.com/exdb/mnist/t10k-labels-idx1-ubyte.gz\n",
            "Failed to download (trying next):\n",
            "<urlopen error [SSL: CERTIFICATE_VERIFY_FAILED] certificate verify failed: certificate has expired (_ssl.c:1007)>\n",
            "\n",
            "Downloading https://ossci-datasets.s3.amazonaws.com/mnist/t10k-labels-idx1-ubyte.gz\n",
            "Downloading https://ossci-datasets.s3.amazonaws.com/mnist/t10k-labels-idx1-ubyte.gz to data/MNIST/raw/t10k-labels-idx1-ubyte.gz\n"
          ]
        },
        {
          "output_type": "stream",
          "name": "stderr",
          "text": [
            "100%|██████████| 4542/4542 [00:00<00:00, 1432693.75it/s]"
          ]
        },
        {
          "output_type": "stream",
          "name": "stdout",
          "text": [
            "Extracting data/MNIST/raw/t10k-labels-idx1-ubyte.gz to data/MNIST/raw\n",
            "\n"
          ]
        },
        {
          "output_type": "stream",
          "name": "stderr",
          "text": [
            "\n"
          ]
        }
      ]
    },
    {
      "cell_type": "code",
      "source": [
        "train_data"
      ],
      "metadata": {
        "colab": {
          "base_uri": "https://localhost:8080/"
        },
        "id": "zpvdv-lYgMSO",
        "outputId": "610eaa62-cf99-4547-f0e0-6f5859d40df7"
      },
      "execution_count": 4,
      "outputs": [
        {
          "output_type": "execute_result",
          "data": {
            "text/plain": [
              "Dataset MNIST\n",
              "    Number of datapoints: 60000\n",
              "    Root location: data\n",
              "    Split: Train\n",
              "    StandardTransform\n",
              "Transform: ToTensor()"
            ]
          },
          "metadata": {},
          "execution_count": 4
        }
      ]
    },
    {
      "cell_type": "code",
      "source": [
        "train_data.data.shape"
      ],
      "metadata": {
        "colab": {
          "base_uri": "https://localhost:8080/"
        },
        "id": "Q6FSAUpwgMyu",
        "outputId": "66c1e10f-bd56-40a0-edad-ea3dcb8e2100"
      },
      "execution_count": 5,
      "outputs": [
        {
          "output_type": "execute_result",
          "data": {
            "text/plain": [
              "torch.Size([60000, 28, 28])"
            ]
          },
          "metadata": {},
          "execution_count": 5
        }
      ]
    },
    {
      "cell_type": "code",
      "source": [
        "test_data.data.shape"
      ],
      "metadata": {
        "colab": {
          "base_uri": "https://localhost:8080/"
        },
        "id": "Ow1WnZTygPSv",
        "outputId": "0341adc1-17ff-4e54-bed7-26f1fbca2802"
      },
      "execution_count": 6,
      "outputs": [
        {
          "output_type": "execute_result",
          "data": {
            "text/plain": [
              "torch.Size([10000, 28, 28])"
            ]
          },
          "metadata": {},
          "execution_count": 6
        }
      ]
    },
    {
      "cell_type": "code",
      "source": [
        "train_data.targets.size()"
      ],
      "metadata": {
        "colab": {
          "base_uri": "https://localhost:8080/"
        },
        "id": "KfgKXXnJgQTI",
        "outputId": "aa4bd015-8958-4241-a06b-1089c056a390"
      },
      "execution_count": 7,
      "outputs": [
        {
          "output_type": "execute_result",
          "data": {
            "text/plain": [
              "torch.Size([60000])"
            ]
          },
          "metadata": {},
          "execution_count": 7
        }
      ]
    },
    {
      "cell_type": "code",
      "source": [
        "train_data.targets"
      ],
      "metadata": {
        "colab": {
          "base_uri": "https://localhost:8080/"
        },
        "id": "G97eTwchgTB7",
        "outputId": "d20cfbc0-a2fa-41bb-8267-1abd8ff4b690"
      },
      "execution_count": 8,
      "outputs": [
        {
          "output_type": "execute_result",
          "data": {
            "text/plain": [
              "tensor([5, 0, 4,  ..., 5, 6, 8])"
            ]
          },
          "metadata": {},
          "execution_count": 8
        }
      ]
    },
    {
      "cell_type": "code",
      "source": [
        "from torch.utils.data import DataLoader\n",
        "\n",
        "loaders={\n",
        "    'train':DataLoader(train_data,batch_size=100,shuffle=True,num_workers=1),\n",
        "    'test':DataLoader(test_data,batch_size=100,shuffle=True,num_workers=1),\n",
        "}"
      ],
      "metadata": {
        "id": "zmWf3fCVgTps"
      },
      "execution_count": 9,
      "outputs": []
    },
    {
      "cell_type": "code",
      "source": [
        "loaders"
      ],
      "metadata": {
        "colab": {
          "base_uri": "https://localhost:8080/"
        },
        "id": "t-pIGejSgWH_",
        "outputId": "56fec6ac-fe83-4b82-e0d8-324687780797"
      },
      "execution_count": 10,
      "outputs": [
        {
          "output_type": "execute_result",
          "data": {
            "text/plain": [
              "{'train': <torch.utils.data.dataloader.DataLoader at 0x7fcae3fc69b0>,\n",
              " 'test': <torch.utils.data.dataloader.DataLoader at 0x7fcae3fc5090>}"
            ]
          },
          "metadata": {},
          "execution_count": 10
        }
      ]
    },
    {
      "cell_type": "code",
      "source": [
        "import torch.nn as nn\n",
        "import torch.nn.functional as F\n",
        "import torch.optim as optim\n",
        "class CNN(nn.Module):\n",
        "\n",
        "  def __init__(self):\n",
        "    super(CNN, self).__init__()\n",
        "\n",
        "    self.conv1=nn.Conv2d(1,10, kernel_size=5)\n",
        "    self.conv2=nn.Conv2d(10, 20, kernel_size=5)\n",
        "    self.conv2_drop=nn.Dropout2d()\n",
        "    self.fcl=nn.Linear(320,50)\n",
        "    self.fc2=nn.Linear(50,10)\n",
        "\n",
        "  def forward(self,x):\n",
        "    x=F.relu(F.max_pool2d(self.conv1(x),2))\n",
        "    x=F.relu(F.max_pool2d(self.conv2_drop(self.conv2(x)),2))\n",
        "    x=x.view(-1,320)\n",
        "    x=F.relu(self.fcl(x))\n",
        "    x=F.dropout(x,training=self.training)\n",
        "    x=self.fc2(x)\n",
        "\n",
        "    return F.softmax(x)"
      ],
      "metadata": {
        "id": "ufbMjhf5gZAT"
      },
      "execution_count": 29,
      "outputs": []
    },
    {
      "cell_type": "code",
      "source": [
        "import torch\n",
        "\n",
        "device = torch.device('cuda' if torch.cuda.is_available() else 'cpu')\n",
        "\n",
        "model = CNN().to(device)\n",
        "\n",
        "optimizer = optim.Adam(model.parameters(), lr=0.001)\n",
        "\n",
        "loss_fn=nn.CrossEntropyLoss()\n",
        "\n",
        "def train (epoch):\n",
        "  model.train()\n",
        "  for batch_idx, (data, target) in enumerate(loaders['train']):\n",
        "    data, target=data.to(device),target.to(device)\n",
        "    optimizer.zero_grad()\n",
        "    output=model(data)\n",
        "    loss=loss_fn(output, target)\n",
        "    loss.backward()\n",
        "    optimizer.step()\n",
        "    if batch_idx % 20==0:\n",
        "      print(f'Train Epoch: {epoch} [{batch_idx*len(data)}/{len(loaders[\"train\"].dataset)} ({100. *batch_idx/len(loaders[\"train\"]):.0f}%)]\\t{loss.item():.6f}')\n",
        "\n",
        "def test():\n",
        "    model.eval()\n",
        "    test_loss=0\n",
        "    correct=0\n",
        "    with torch.no_grad():\n",
        "      for data, target in loaders['test']:\n",
        "          data, target=data.to(device), target.to(device)\n",
        "          output=model(data)\n",
        "          test_loss+=loss_fn(output,target).item()\n",
        "          pred=output.argmax(dim=1,keepdim=True)\n",
        "          correct+=pred.eq(target.view_as(pred)).sum().item()\n",
        "    test_loss/=len(loaders['test'].dataset)\n",
        "    print(f'\\nTest set: Averageloss: {test_loss:.4f}, Accuracy {correct}/{len(loaders[\"test\"].dataset)} ({100. *correct/len(loaders[\"test\"].dataset):.0f}%\\n)')"
      ],
      "metadata": {
        "id": "D6d2fZhRgZtv"
      },
      "execution_count": 38,
      "outputs": []
    },
    {
      "cell_type": "code",
      "source": [
        "for epoch in range(1, 11):\n",
        "    train(epoch)\n",
        "    test()"
      ],
      "metadata": {
        "colab": {
          "base_uri": "https://localhost:8080/"
        },
        "id": "jD-h87VSs1YP",
        "outputId": "1ee9ca4e-fc2a-4518-f25f-86f566d7908f"
      },
      "execution_count": 39,
      "outputs": [
        {
          "output_type": "stream",
          "name": "stderr",
          "text": [
            "<ipython-input-29-6877b50a68d0>:23: UserWarning: Implicit dimension choice for softmax has been deprecated. Change the call to include dim=X as an argument.\n",
            "  return F.softmax(x)\n"
          ]
        },
        {
          "output_type": "stream",
          "name": "stdout",
          "text": [
            "Train Epoch: 1 [0/60000 (0%)]\t2.301911\n",
            "Train Epoch: 1 [2000/60000 (3%)]\t2.290030\n",
            "Train Epoch: 1 [4000/60000 (7%)]\t2.166595\n",
            "Train Epoch: 1 [6000/60000 (10%)]\t1.985938\n",
            "Train Epoch: 1 [8000/60000 (13%)]\t1.955963\n",
            "Train Epoch: 1 [10000/60000 (17%)]\t1.895705\n",
            "Train Epoch: 1 [12000/60000 (20%)]\t1.853693\n",
            "Train Epoch: 1 [14000/60000 (23%)]\t1.790501\n",
            "Train Epoch: 1 [16000/60000 (27%)]\t1.743587\n",
            "Train Epoch: 1 [18000/60000 (30%)]\t1.772213\n",
            "Train Epoch: 1 [20000/60000 (33%)]\t1.762797\n",
            "Train Epoch: 1 [22000/60000 (37%)]\t1.707706\n",
            "Train Epoch: 1 [24000/60000 (40%)]\t1.722522\n",
            "Train Epoch: 1 [26000/60000 (43%)]\t1.724942\n",
            "Train Epoch: 1 [28000/60000 (47%)]\t1.684887\n",
            "Train Epoch: 1 [30000/60000 (50%)]\t1.635787\n",
            "Train Epoch: 1 [32000/60000 (53%)]\t1.648215\n",
            "Train Epoch: 1 [34000/60000 (57%)]\t1.653811\n",
            "Train Epoch: 1 [36000/60000 (60%)]\t1.669556\n",
            "Train Epoch: 1 [38000/60000 (63%)]\t1.629839\n",
            "Train Epoch: 1 [40000/60000 (67%)]\t1.634267\n",
            "Train Epoch: 1 [42000/60000 (70%)]\t1.615118\n",
            "Train Epoch: 1 [44000/60000 (73%)]\t1.661333\n",
            "Train Epoch: 1 [46000/60000 (77%)]\t1.612024\n",
            "Train Epoch: 1 [48000/60000 (80%)]\t1.599943\n",
            "Train Epoch: 1 [50000/60000 (83%)]\t1.636775\n",
            "Train Epoch: 1 [52000/60000 (87%)]\t1.626178\n",
            "Train Epoch: 1 [54000/60000 (90%)]\t1.660322\n",
            "Train Epoch: 1 [56000/60000 (93%)]\t1.600645\n",
            "Train Epoch: 1 [58000/60000 (97%)]\t1.646953\n",
            "\n",
            "Test set: Averageloss: 0.0154, Accuracy 9247/10000 (92%\n",
            ")\n",
            "Train Epoch: 2 [0/60000 (0%)]\t1.626207\n",
            "Train Epoch: 2 [2000/60000 (3%)]\t1.617723\n",
            "Train Epoch: 2 [4000/60000 (7%)]\t1.595826\n",
            "Train Epoch: 2 [6000/60000 (10%)]\t1.566174\n",
            "Train Epoch: 2 [8000/60000 (13%)]\t1.616302\n",
            "Train Epoch: 2 [10000/60000 (17%)]\t1.584455\n",
            "Train Epoch: 2 [12000/60000 (20%)]\t1.610681\n",
            "Train Epoch: 2 [14000/60000 (23%)]\t1.642566\n",
            "Train Epoch: 2 [16000/60000 (27%)]\t1.619294\n",
            "Train Epoch: 2 [18000/60000 (30%)]\t1.577613\n",
            "Train Epoch: 2 [20000/60000 (33%)]\t1.655668\n",
            "Train Epoch: 2 [22000/60000 (37%)]\t1.583785\n",
            "Train Epoch: 2 [24000/60000 (40%)]\t1.611441\n",
            "Train Epoch: 2 [26000/60000 (43%)]\t1.629724\n",
            "Train Epoch: 2 [28000/60000 (47%)]\t1.593526\n",
            "Train Epoch: 2 [30000/60000 (50%)]\t1.599976\n",
            "Train Epoch: 2 [32000/60000 (53%)]\t1.572973\n",
            "Train Epoch: 2 [34000/60000 (57%)]\t1.559007\n",
            "Train Epoch: 2 [36000/60000 (60%)]\t1.629326\n",
            "Train Epoch: 2 [38000/60000 (63%)]\t1.544299\n",
            "Train Epoch: 2 [40000/60000 (67%)]\t1.583734\n",
            "Train Epoch: 2 [42000/60000 (70%)]\t1.580932\n",
            "Train Epoch: 2 [44000/60000 (73%)]\t1.588984\n",
            "Train Epoch: 2 [46000/60000 (77%)]\t1.606573\n",
            "Train Epoch: 2 [48000/60000 (80%)]\t1.569457\n",
            "Train Epoch: 2 [50000/60000 (83%)]\t1.574904\n",
            "Train Epoch: 2 [52000/60000 (87%)]\t1.586211\n",
            "Train Epoch: 2 [54000/60000 (90%)]\t1.546762\n",
            "Train Epoch: 2 [56000/60000 (93%)]\t1.555509\n",
            "Train Epoch: 2 [58000/60000 (97%)]\t1.604691\n",
            "\n",
            "Test set: Averageloss: 0.0152, Accuracy 9470/10000 (95%\n",
            ")\n",
            "Train Epoch: 3 [0/60000 (0%)]\t1.587393\n",
            "Train Epoch: 3 [2000/60000 (3%)]\t1.626321\n",
            "Train Epoch: 3 [4000/60000 (7%)]\t1.578250\n",
            "Train Epoch: 3 [6000/60000 (10%)]\t1.612911\n",
            "Train Epoch: 3 [8000/60000 (13%)]\t1.580395\n",
            "Train Epoch: 3 [10000/60000 (17%)]\t1.562544\n",
            "Train Epoch: 3 [12000/60000 (20%)]\t1.587335\n",
            "Train Epoch: 3 [14000/60000 (23%)]\t1.553733\n",
            "Train Epoch: 3 [16000/60000 (27%)]\t1.548919\n",
            "Train Epoch: 3 [18000/60000 (30%)]\t1.544451\n",
            "Train Epoch: 3 [20000/60000 (33%)]\t1.533121\n",
            "Train Epoch: 3 [22000/60000 (37%)]\t1.527244\n",
            "Train Epoch: 3 [24000/60000 (40%)]\t1.588451\n",
            "Train Epoch: 3 [26000/60000 (43%)]\t1.576444\n",
            "Train Epoch: 3 [28000/60000 (47%)]\t1.609380\n",
            "Train Epoch: 3 [30000/60000 (50%)]\t1.542999\n",
            "Train Epoch: 3 [32000/60000 (53%)]\t1.585926\n",
            "Train Epoch: 3 [34000/60000 (57%)]\t1.525456\n",
            "Train Epoch: 3 [36000/60000 (60%)]\t1.568626\n",
            "Train Epoch: 3 [38000/60000 (63%)]\t1.589351\n",
            "Train Epoch: 3 [40000/60000 (67%)]\t1.600127\n",
            "Train Epoch: 3 [42000/60000 (70%)]\t1.579438\n",
            "Train Epoch: 3 [44000/60000 (73%)]\t1.562148\n",
            "Train Epoch: 3 [46000/60000 (77%)]\t1.560000\n",
            "Train Epoch: 3 [48000/60000 (80%)]\t1.555562\n",
            "Train Epoch: 3 [50000/60000 (83%)]\t1.519764\n",
            "Train Epoch: 3 [52000/60000 (87%)]\t1.608403\n",
            "Train Epoch: 3 [54000/60000 (90%)]\t1.543053\n",
            "Train Epoch: 3 [56000/60000 (93%)]\t1.539293\n",
            "Train Epoch: 3 [58000/60000 (97%)]\t1.565050\n",
            "\n",
            "Test set: Averageloss: 0.0151, Accuracy 9551/10000 (96%\n",
            ")\n",
            "Train Epoch: 4 [0/60000 (0%)]\t1.611801\n",
            "Train Epoch: 4 [2000/60000 (3%)]\t1.610361\n",
            "Train Epoch: 4 [4000/60000 (7%)]\t1.528202\n",
            "Train Epoch: 4 [6000/60000 (10%)]\t1.542734\n",
            "Train Epoch: 4 [8000/60000 (13%)]\t1.539406\n",
            "Train Epoch: 4 [10000/60000 (17%)]\t1.592847\n",
            "Train Epoch: 4 [12000/60000 (20%)]\t1.553689\n",
            "Train Epoch: 4 [14000/60000 (23%)]\t1.555095\n",
            "Train Epoch: 4 [16000/60000 (27%)]\t1.540620\n",
            "Train Epoch: 4 [18000/60000 (30%)]\t1.538395\n",
            "Train Epoch: 4 [20000/60000 (33%)]\t1.527637\n",
            "Train Epoch: 4 [22000/60000 (37%)]\t1.573827\n",
            "Train Epoch: 4 [24000/60000 (40%)]\t1.559483\n",
            "Train Epoch: 4 [26000/60000 (43%)]\t1.547510\n",
            "Train Epoch: 4 [28000/60000 (47%)]\t1.510939\n",
            "Train Epoch: 4 [30000/60000 (50%)]\t1.554557\n",
            "Train Epoch: 4 [32000/60000 (53%)]\t1.524597\n",
            "Train Epoch: 4 [34000/60000 (57%)]\t1.611924\n",
            "Train Epoch: 4 [36000/60000 (60%)]\t1.548273\n",
            "Train Epoch: 4 [38000/60000 (63%)]\t1.542694\n",
            "Train Epoch: 4 [40000/60000 (67%)]\t1.588216\n",
            "Train Epoch: 4 [42000/60000 (70%)]\t1.606368\n",
            "Train Epoch: 4 [44000/60000 (73%)]\t1.505440\n",
            "Train Epoch: 4 [46000/60000 (77%)]\t1.540841\n",
            "Train Epoch: 4 [48000/60000 (80%)]\t1.595529\n",
            "Train Epoch: 4 [50000/60000 (83%)]\t1.523994\n",
            "Train Epoch: 4 [52000/60000 (87%)]\t1.576263\n",
            "Train Epoch: 4 [54000/60000 (90%)]\t1.517891\n",
            "Train Epoch: 4 [56000/60000 (93%)]\t1.567661\n",
            "Train Epoch: 4 [58000/60000 (97%)]\t1.544513\n",
            "\n",
            "Test set: Averageloss: 0.0150, Accuracy 9609/10000 (96%\n",
            ")\n",
            "Train Epoch: 5 [0/60000 (0%)]\t1.531708\n",
            "Train Epoch: 5 [2000/60000 (3%)]\t1.577570\n",
            "Train Epoch: 5 [4000/60000 (7%)]\t1.527789\n",
            "Train Epoch: 5 [6000/60000 (10%)]\t1.551997\n",
            "Train Epoch: 5 [8000/60000 (13%)]\t1.562889\n",
            "Train Epoch: 5 [10000/60000 (17%)]\t1.528040\n",
            "Train Epoch: 5 [12000/60000 (20%)]\t1.530780\n",
            "Train Epoch: 5 [14000/60000 (23%)]\t1.557006\n",
            "Train Epoch: 5 [16000/60000 (27%)]\t1.549642\n",
            "Train Epoch: 5 [18000/60000 (30%)]\t1.536864\n",
            "Train Epoch: 5 [20000/60000 (33%)]\t1.573176\n",
            "Train Epoch: 5 [22000/60000 (37%)]\t1.543884\n",
            "Train Epoch: 5 [24000/60000 (40%)]\t1.533873\n",
            "Train Epoch: 5 [26000/60000 (43%)]\t1.543202\n",
            "Train Epoch: 5 [28000/60000 (47%)]\t1.591053\n",
            "Train Epoch: 5 [30000/60000 (50%)]\t1.559424\n",
            "Train Epoch: 5 [32000/60000 (53%)]\t1.528958\n",
            "Train Epoch: 5 [34000/60000 (57%)]\t1.528333\n",
            "Train Epoch: 5 [36000/60000 (60%)]\t1.514369\n",
            "Train Epoch: 5 [38000/60000 (63%)]\t1.559727\n",
            "Train Epoch: 5 [40000/60000 (67%)]\t1.558213\n",
            "Train Epoch: 5 [42000/60000 (70%)]\t1.520643\n",
            "Train Epoch: 5 [44000/60000 (73%)]\t1.560050\n",
            "Train Epoch: 5 [46000/60000 (77%)]\t1.569610\n",
            "Train Epoch: 5 [48000/60000 (80%)]\t1.583837\n",
            "Train Epoch: 5 [50000/60000 (83%)]\t1.526809\n",
            "Train Epoch: 5 [52000/60000 (87%)]\t1.577975\n",
            "Train Epoch: 5 [54000/60000 (90%)]\t1.586167\n",
            "Train Epoch: 5 [56000/60000 (93%)]\t1.546174\n",
            "Train Epoch: 5 [58000/60000 (97%)]\t1.529302\n",
            "\n",
            "Test set: Averageloss: 0.0150, Accuracy 9634/10000 (96%\n",
            ")\n",
            "Train Epoch: 6 [0/60000 (0%)]\t1.528536\n",
            "Train Epoch: 6 [2000/60000 (3%)]\t1.525071\n",
            "Train Epoch: 6 [4000/60000 (7%)]\t1.560802\n",
            "Train Epoch: 6 [6000/60000 (10%)]\t1.533331\n",
            "Train Epoch: 6 [8000/60000 (13%)]\t1.498581\n",
            "Train Epoch: 6 [10000/60000 (17%)]\t1.567069\n",
            "Train Epoch: 6 [12000/60000 (20%)]\t1.551785\n",
            "Train Epoch: 6 [14000/60000 (23%)]\t1.541441\n",
            "Train Epoch: 6 [16000/60000 (27%)]\t1.528524\n",
            "Train Epoch: 6 [18000/60000 (30%)]\t1.510251\n",
            "Train Epoch: 6 [20000/60000 (33%)]\t1.544470\n",
            "Train Epoch: 6 [22000/60000 (37%)]\t1.573164\n",
            "Train Epoch: 6 [24000/60000 (40%)]\t1.520790\n",
            "Train Epoch: 6 [26000/60000 (43%)]\t1.511514\n",
            "Train Epoch: 6 [28000/60000 (47%)]\t1.549657\n",
            "Train Epoch: 6 [30000/60000 (50%)]\t1.535845\n",
            "Train Epoch: 6 [32000/60000 (53%)]\t1.528803\n",
            "Train Epoch: 6 [34000/60000 (57%)]\t1.539497\n",
            "Train Epoch: 6 [36000/60000 (60%)]\t1.534665\n",
            "Train Epoch: 6 [38000/60000 (63%)]\t1.493507\n",
            "Train Epoch: 6 [40000/60000 (67%)]\t1.540804\n",
            "Train Epoch: 6 [42000/60000 (70%)]\t1.587490\n",
            "Train Epoch: 6 [44000/60000 (73%)]\t1.515821\n",
            "Train Epoch: 6 [46000/60000 (77%)]\t1.558529\n",
            "Train Epoch: 6 [48000/60000 (80%)]\t1.509693\n",
            "Train Epoch: 6 [50000/60000 (83%)]\t1.511160\n",
            "Train Epoch: 6 [52000/60000 (87%)]\t1.553433\n",
            "Train Epoch: 6 [54000/60000 (90%)]\t1.555262\n",
            "Train Epoch: 6 [56000/60000 (93%)]\t1.526167\n",
            "Train Epoch: 6 [58000/60000 (97%)]\t1.541048\n",
            "\n",
            "Test set: Averageloss: 0.0149, Accuracy 9669/10000 (97%\n",
            ")\n",
            "Train Epoch: 7 [0/60000 (0%)]\t1.532016\n",
            "Train Epoch: 7 [2000/60000 (3%)]\t1.541996\n",
            "Train Epoch: 7 [4000/60000 (7%)]\t1.536732\n",
            "Train Epoch: 7 [6000/60000 (10%)]\t1.550624\n",
            "Train Epoch: 7 [8000/60000 (13%)]\t1.557313\n",
            "Train Epoch: 7 [10000/60000 (17%)]\t1.581435\n",
            "Train Epoch: 7 [12000/60000 (20%)]\t1.552924\n",
            "Train Epoch: 7 [14000/60000 (23%)]\t1.556672\n",
            "Train Epoch: 7 [16000/60000 (27%)]\t1.564415\n",
            "Train Epoch: 7 [18000/60000 (30%)]\t1.532455\n",
            "Train Epoch: 7 [20000/60000 (33%)]\t1.588568\n",
            "Train Epoch: 7 [22000/60000 (37%)]\t1.558375\n",
            "Train Epoch: 7 [24000/60000 (40%)]\t1.600005\n",
            "Train Epoch: 7 [26000/60000 (43%)]\t1.517123\n",
            "Train Epoch: 7 [28000/60000 (47%)]\t1.513798\n",
            "Train Epoch: 7 [30000/60000 (50%)]\t1.579084\n",
            "Train Epoch: 7 [32000/60000 (53%)]\t1.524526\n",
            "Train Epoch: 7 [34000/60000 (57%)]\t1.529609\n",
            "Train Epoch: 7 [36000/60000 (60%)]\t1.511073\n",
            "Train Epoch: 7 [38000/60000 (63%)]\t1.549793\n",
            "Train Epoch: 7 [40000/60000 (67%)]\t1.547339\n",
            "Train Epoch: 7 [42000/60000 (70%)]\t1.518991\n",
            "Train Epoch: 7 [44000/60000 (73%)]\t1.556969\n",
            "Train Epoch: 7 [46000/60000 (77%)]\t1.554581\n",
            "Train Epoch: 7 [48000/60000 (80%)]\t1.576979\n",
            "Train Epoch: 7 [50000/60000 (83%)]\t1.558575\n",
            "Train Epoch: 7 [52000/60000 (87%)]\t1.538937\n",
            "Train Epoch: 7 [54000/60000 (90%)]\t1.510516\n",
            "Train Epoch: 7 [56000/60000 (93%)]\t1.502006\n",
            "Train Epoch: 7 [58000/60000 (97%)]\t1.574659\n",
            "\n",
            "Test set: Averageloss: 0.0149, Accuracy 9676/10000 (97%\n",
            ")\n",
            "Train Epoch: 8 [0/60000 (0%)]\t1.524311\n",
            "Train Epoch: 8 [2000/60000 (3%)]\t1.541978\n",
            "Train Epoch: 8 [4000/60000 (7%)]\t1.530953\n",
            "Train Epoch: 8 [6000/60000 (10%)]\t1.536002\n",
            "Train Epoch: 8 [8000/60000 (13%)]\t1.540257\n",
            "Train Epoch: 8 [10000/60000 (17%)]\t1.570267\n",
            "Train Epoch: 8 [12000/60000 (20%)]\t1.585013\n",
            "Train Epoch: 8 [14000/60000 (23%)]\t1.512114\n",
            "Train Epoch: 8 [16000/60000 (27%)]\t1.523334\n",
            "Train Epoch: 8 [18000/60000 (30%)]\t1.577613\n",
            "Train Epoch: 8 [20000/60000 (33%)]\t1.497209\n",
            "Train Epoch: 8 [22000/60000 (37%)]\t1.559042\n",
            "Train Epoch: 8 [24000/60000 (40%)]\t1.532311\n",
            "Train Epoch: 8 [26000/60000 (43%)]\t1.543605\n",
            "Train Epoch: 8 [28000/60000 (47%)]\t1.512017\n",
            "Train Epoch: 8 [30000/60000 (50%)]\t1.513496\n",
            "Train Epoch: 8 [32000/60000 (53%)]\t1.544424\n",
            "Train Epoch: 8 [34000/60000 (57%)]\t1.557226\n",
            "Train Epoch: 8 [36000/60000 (60%)]\t1.503354\n",
            "Train Epoch: 8 [38000/60000 (63%)]\t1.493461\n",
            "Train Epoch: 8 [40000/60000 (67%)]\t1.526294\n",
            "Train Epoch: 8 [42000/60000 (70%)]\t1.514803\n",
            "Train Epoch: 8 [44000/60000 (73%)]\t1.539416\n",
            "Train Epoch: 8 [46000/60000 (77%)]\t1.529504\n",
            "Train Epoch: 8 [48000/60000 (80%)]\t1.589962\n",
            "Train Epoch: 8 [50000/60000 (83%)]\t1.556176\n",
            "Train Epoch: 8 [52000/60000 (87%)]\t1.572079\n",
            "Train Epoch: 8 [54000/60000 (90%)]\t1.610213\n",
            "Train Epoch: 8 [56000/60000 (93%)]\t1.495585\n",
            "Train Epoch: 8 [58000/60000 (97%)]\t1.545567\n",
            "\n",
            "Test set: Averageloss: 0.0149, Accuracy 9696/10000 (97%\n",
            ")\n",
            "Train Epoch: 9 [0/60000 (0%)]\t1.547951\n",
            "Train Epoch: 9 [2000/60000 (3%)]\t1.515988\n",
            "Train Epoch: 9 [4000/60000 (7%)]\t1.512446\n",
            "Train Epoch: 9 [6000/60000 (10%)]\t1.524896\n",
            "Train Epoch: 9 [8000/60000 (13%)]\t1.548541\n",
            "Train Epoch: 9 [10000/60000 (17%)]\t1.573096\n",
            "Train Epoch: 9 [12000/60000 (20%)]\t1.535909\n",
            "Train Epoch: 9 [14000/60000 (23%)]\t1.511580\n",
            "Train Epoch: 9 [16000/60000 (27%)]\t1.544892\n",
            "Train Epoch: 9 [18000/60000 (30%)]\t1.522578\n",
            "Train Epoch: 9 [20000/60000 (33%)]\t1.541587\n",
            "Train Epoch: 9 [22000/60000 (37%)]\t1.513393\n",
            "Train Epoch: 9 [24000/60000 (40%)]\t1.526595\n",
            "Train Epoch: 9 [26000/60000 (43%)]\t1.550767\n",
            "Train Epoch: 9 [28000/60000 (47%)]\t1.532072\n",
            "Train Epoch: 9 [30000/60000 (50%)]\t1.562404\n",
            "Train Epoch: 9 [32000/60000 (53%)]\t1.540672\n",
            "Train Epoch: 9 [34000/60000 (57%)]\t1.560714\n",
            "Train Epoch: 9 [36000/60000 (60%)]\t1.518890\n",
            "Train Epoch: 9 [38000/60000 (63%)]\t1.494784\n",
            "Train Epoch: 9 [40000/60000 (67%)]\t1.519566\n",
            "Train Epoch: 9 [42000/60000 (70%)]\t1.560210\n",
            "Train Epoch: 9 [44000/60000 (73%)]\t1.505959\n",
            "Train Epoch: 9 [46000/60000 (77%)]\t1.594484\n",
            "Train Epoch: 9 [48000/60000 (80%)]\t1.514771\n",
            "Train Epoch: 9 [50000/60000 (83%)]\t1.591271\n",
            "Train Epoch: 9 [52000/60000 (87%)]\t1.479870\n",
            "Train Epoch: 9 [54000/60000 (90%)]\t1.493559\n",
            "Train Epoch: 9 [56000/60000 (93%)]\t1.488570\n",
            "Train Epoch: 9 [58000/60000 (97%)]\t1.533322\n",
            "\n",
            "Test set: Averageloss: 0.0149, Accuracy 9717/10000 (97%\n",
            ")\n",
            "Train Epoch: 10 [0/60000 (0%)]\t1.556581\n",
            "Train Epoch: 10 [2000/60000 (3%)]\t1.489878\n",
            "Train Epoch: 10 [4000/60000 (7%)]\t1.539677\n",
            "Train Epoch: 10 [6000/60000 (10%)]\t1.546959\n",
            "Train Epoch: 10 [8000/60000 (13%)]\t1.517947\n",
            "Train Epoch: 10 [10000/60000 (17%)]\t1.498165\n",
            "Train Epoch: 10 [12000/60000 (20%)]\t1.522270\n",
            "Train Epoch: 10 [14000/60000 (23%)]\t1.519996\n",
            "Train Epoch: 10 [16000/60000 (27%)]\t1.558985\n",
            "Train Epoch: 10 [18000/60000 (30%)]\t1.540212\n",
            "Train Epoch: 10 [20000/60000 (33%)]\t1.501032\n",
            "Train Epoch: 10 [22000/60000 (37%)]\t1.483502\n",
            "Train Epoch: 10 [24000/60000 (40%)]\t1.537439\n",
            "Train Epoch: 10 [26000/60000 (43%)]\t1.520645\n",
            "Train Epoch: 10 [28000/60000 (47%)]\t1.519192\n",
            "Train Epoch: 10 [30000/60000 (50%)]\t1.551330\n",
            "Train Epoch: 10 [32000/60000 (53%)]\t1.524076\n",
            "Train Epoch: 10 [34000/60000 (57%)]\t1.546809\n",
            "Train Epoch: 10 [36000/60000 (60%)]\t1.542453\n",
            "Train Epoch: 10 [38000/60000 (63%)]\t1.563386\n",
            "Train Epoch: 10 [40000/60000 (67%)]\t1.547670\n",
            "Train Epoch: 10 [42000/60000 (70%)]\t1.508365\n",
            "Train Epoch: 10 [44000/60000 (73%)]\t1.547439\n",
            "Train Epoch: 10 [46000/60000 (77%)]\t1.508060\n",
            "Train Epoch: 10 [48000/60000 (80%)]\t1.553232\n",
            "Train Epoch: 10 [50000/60000 (83%)]\t1.507952\n",
            "Train Epoch: 10 [52000/60000 (87%)]\t1.527356\n",
            "Train Epoch: 10 [54000/60000 (90%)]\t1.544280\n",
            "Train Epoch: 10 [56000/60000 (93%)]\t1.604687\n",
            "Train Epoch: 10 [58000/60000 (97%)]\t1.526362\n",
            "\n",
            "Test set: Averageloss: 0.0149, Accuracy 9709/10000 (97%\n",
            ")\n"
          ]
        }
      ]
    },
    {
      "cell_type": "code",
      "source": [
        "device"
      ],
      "metadata": {
        "colab": {
          "base_uri": "https://localhost:8080/"
        },
        "id": "piuebf9Ds6kc",
        "outputId": "293b8fce-707c-4c62-9179-cb5293eecaaf"
      },
      "execution_count": 40,
      "outputs": [
        {
          "output_type": "execute_result",
          "data": {
            "text/plain": [
              "device(type='cpu')"
            ]
          },
          "metadata": {},
          "execution_count": 40
        }
      ]
    },
    {
      "cell_type": "code",
      "source": [
        "import matplotlib.pyplot as plt\n",
        "model.eval()\n",
        "data, target = test_data[0]\n",
        "data = data.unsqueeze(0).to(device)\n",
        "output = model(data)\n",
        "prediction = output.argmax(dim=1, keepdim=True).item()\n",
        "print(f'predict: {prediction}')\n",
        "image = data.squeeze(0).squeeze(0).cpu().numpy()\n",
        "plt.imshow(image, cmap='gray')\n",
        "plt.show()"
      ],
      "metadata": {
        "colab": {
          "base_uri": "https://localhost:8080/",
          "height": 484
        },
        "id": "SZAlF21-xwUV",
        "outputId": "2e766e70-8e92-4dc1-f9e0-37c07725efb1"
      },
      "execution_count": 41,
      "outputs": [
        {
          "output_type": "stream",
          "name": "stdout",
          "text": [
            "predict: 7\n"
          ]
        },
        {
          "output_type": "stream",
          "name": "stderr",
          "text": [
            "<ipython-input-29-6877b50a68d0>:23: UserWarning: Implicit dimension choice for softmax has been deprecated. Change the call to include dim=X as an argument.\n",
            "  return F.softmax(x)\n"
          ]
        },
        {
          "output_type": "display_data",
          "data": {
            "text/plain": [
              "<Figure size 640x480 with 1 Axes>"
            ],
            "image/png": "[encoded data removed]"
          },
          "metadata": {}
        }
      ]
    },
    {
      "cell_type": "markdown",
      "source": [],
      "metadata": {
        "id": "JGSfPUuqyFfb"
      }
    },
    {
      "cell_type": "code",
      "source": [
        "model.eval()\n",
        "data, target = test_data[5]\n",
        "data = data.unsqueeze(0).to(device)\n",
        "output = model(data)\n",
        "prediction = output.argmax(dim=1, keepdim=True).item()\n",
        "print(f'predict: {prediction}')\n",
        "image = data.squeeze(0).squeeze(0).cpu().numpy()\n",
        "plt.imshow(image, cmap='gray')\n",
        "plt.show()"
      ],
      "metadata": {
        "colab": {
          "base_uri": "https://localhost:8080/",
          "height": 484
        },
        "id": "7xpq7k9g2_zt",
        "outputId": "03135ae3-1160-424d-90d0-b6ce9c79c0bf"
      },
      "execution_count": 44,
      "outputs": [
        {
          "output_type": "stream",
          "name": "stdout",
          "text": [
            "predict: 1\n"
          ]
        },
        {
          "output_type": "stream",
          "name": "stderr",
          "text": [
            "<ipython-input-29-6877b50a68d0>:23: UserWarning: Implicit dimension choice for softmax has been deprecated. Change the call to include dim=X as an argument.\n",
            "  return F.softmax(x)\n"
          ]
        },
        {
          "output_type": "display_data",
          "data": {
            "text/plain": [
              "<Figure size 640x480 with 1 Axes>"
            ],
            "image/png": "[encoded data removed]"
          },
          "metadata": {}
        }
      ]
    },
    {
      "cell_type": "code",
      "source": [
        "model.eval()\n",
        "data, target = test_data[7]\n",
        "data = data.unsqueeze(0).to(device)\n",
        "output = model(data)\n",
        "prediction = output.argmax(dim=1, keepdim=True).item()\n",
        "print(f'predict: {prediction}')\n",
        "image = data.squeeze(0).squeeze(0).cpu().numpy()\n",
        "plt.imshow(image, cmap='gray')\n",
        "plt.show()"
      ],
      "metadata": {
        "colab": {
          "base_uri": "https://localhost:8080/",
          "height": 484
        },
        "id": "oO5jRDOS3FTN",
        "outputId": "5a9a1976-4835-4bf8-8bc8-7f61a0edad68"
      },
      "execution_count": 45,
      "outputs": [
        {
          "output_type": "stream",
          "name": "stderr",
          "text": [
            "<ipython-input-29-6877b50a68d0>:23: UserWarning: Implicit dimension choice for softmax has been deprecated. Change the call to include dim=X as an argument.\n",
            "  return F.softmax(x)\n"
          ]
        },
        {
          "output_type": "stream",
          "name": "stdout",
          "text": [
            "predict: 9\n"
          ]
        },
        {
          "output_type": "display_data",
          "data": {
            "text/plain": [
              "<Figure size 640x480 with 1 Axes>"
            ],
            "image/png": "[encoded data removed]"
          },
          "metadata": {}
        }
      ]
    }
  ]
}